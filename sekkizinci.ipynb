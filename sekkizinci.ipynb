{
 "cells": [
  {
   "cell_type": "code",
   "execution_count": 1,
   "metadata": {},
   "outputs": [
    {
     "name": "stdout",
     "output_type": "stream",
     "text": [
      "pygame 2.1.2 (SDL 2.0.18, Python 3.10.8)\n",
      "Hello from the pygame community. https://www.pygame.org/contribute.html\n"
     ]
    },
    {
     "ename": "KeyboardInterrupt",
     "evalue": "",
     "output_type": "error",
     "traceback": [
      "\u001b[1;31m---------------------------------------------------------------------------\u001b[0m",
      "\u001b[1;31mKeyboardInterrupt\u001b[0m                         Traceback (most recent call last)",
      "Cell \u001b[1;32mIn [1], line 35\u001b[0m\n\u001b[0;32m     32\u001b[0m \u001b[39mif\u001b[39;00m y \u001b[39m<\u001b[39m\u001b[39m=\u001b[39m\u001b[39m0\u001b[39m \u001b[39m+\u001b[39m y_cap :\n\u001b[0;32m     33\u001b[0m     y_speed \u001b[39m*\u001b[39m\u001b[39m=\u001b[39m \u001b[39m-\u001b[39m\u001b[39m1\u001b[39m\n\u001b[1;32m---> 35\u001b[0m pg\u001b[39m.\u001b[39;49mdisplay\u001b[39m.\u001b[39;49mflip()\n",
      "\u001b[1;31mKeyboardInterrupt\u001b[0m: "
     ]
    },
    {
     "ename": "",
     "evalue": "",
     "output_type": "error",
     "traceback": [
      "\u001b[1;31mThe Kernel crashed while executing code in the the current cell or a previous cell. Please review the code in the cell(s) to identify a possible cause of the failure. Click <a href='https://aka.ms/vscodeJupyterKernelCrash'>here</a> for more info. View Jupyter <a href='command:jupyter.viewOutput'>log</a> for further details."
     ]
    }
   ],
   "source": [
    "import pygame as pg\n",
    "import sys\n",
    "pg.init()\n",
    "\n",
    "en , boy = 800 , 600\n",
    "siyah =  0 , 0 , 0 # RGB 0- 255\n",
    "beyaz = 255 ,255, 255\n",
    "kirmizi = 255,0,0\n",
    "gri = 100,100,100\n",
    "\n",
    "ekran = pg.display.set_mode( (en,boy)  )\n",
    "x , y = en//2,boy//2\n",
    "x_speed = y_speed = 1\n",
    "y_cap = 50\n",
    "while True:\n",
    "    for event in pg.event.get():\n",
    "        if event.type == pg.QUIT :\n",
    "            sys.exit();\n",
    "    ekran.fill(gri)\n",
    "    pg.draw.circle(ekran,kirmizi,( x , y  ),y_cap)\n",
    "    \n",
    "    x += x_speed\n",
    "    y += y_speed\n",
    "\n",
    "    if x >= en - y_cap :\n",
    "        x_speed *= -1\n",
    "    if x <= 0 + y_cap :\n",
    "        x_speed *= -1\n",
    "\n",
    "    if y >= boy - y_cap:\n",
    "        y_speed *= -1\n",
    "    if y <=0 + y_cap :\n",
    "        y_speed *= -1\n",
    "\n",
    "    pg.display.flip()"
   ]
  }
 ],
 "metadata": {
  "kernelspec": {
   "display_name": "Python 3",
   "language": "python",
   "name": "python3"
  },
  "language_info": {
   "codemirror_mode": {
    "name": "ipython",
    "version": 3
   },
   "file_extension": ".py",
   "mimetype": "text/x-python",
   "name": "python",
   "nbconvert_exporter": "python",
   "pygments_lexer": "ipython3",
   "version": "3.10.8 (tags/v3.10.8:aaaf517, Oct 11 2022, 16:50:30) [MSC v.1933 64 bit (AMD64)]"
  },
  "orig_nbformat": 4,
  "vscode": {
   "interpreter": {
    "hash": "fb4569285eef3a3450cb62085a5b1e0da4bce0af555edc33dcf29baf3acc1368"
   }
  }
 },
 "nbformat": 4,
 "nbformat_minor": 2
}
