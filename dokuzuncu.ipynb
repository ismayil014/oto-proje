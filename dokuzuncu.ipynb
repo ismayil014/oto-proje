{
 "cells": [
  {
   "cell_type": "code",
   "execution_count": 10,
   "metadata": {},
   "outputs": [],
   "source": [
    "#O\n",
    "\n",
    "\n",
    "\n",
    "\n",
    "\n",
    "class Araba:\n",
    "    # peoperties\n",
    "    teker_sayisi =4\n",
    "    renk = fiyati = motor_hacmi=0\n",
    "    #method\n",
    "    def vergi_hesapla():\n",
    "        if(self. motor_hacmi < 2000) :\n",
    "            return fiyati * 1.4\n",
    "        if(self. motor_hacmi <4500 ) :\n",
    "            return self\n",
    "            '5ey instani maybe\n",
    "\n",
    "\n",
    "z =Araba()\n",
    "z.fiyati = 50_00\n",
    "z.renk= \"BEYAZ\"\n",
    "z.motor_hacmi = 1600\n",
    "\n",
    "  \n"
   ]
  },
  {
   "cell_type": "code",
   "execution_count": 12,
   "metadata": {},
   "outputs": [
    {
     "ename": "NameError",
     "evalue": "name 'en' is not defined",
     "output_type": "error",
     "traceback": [
      "\u001b[1;31m---------------------------------------------------------------------------\u001b[0m",
      "\u001b[1;31mNameError\u001b[0m                                 Traceback (most recent call last)",
      "Cell \u001b[1;32mIn [12], line 11\u001b[0m\n\u001b[0;32m      6\u001b[0m         \u001b[39mself\u001b[39m,malzeme \u001b[39m=\u001b[39m malzeme\n\u001b[0;32m      7\u001b[0m         \u001b[39mself\u001b[39m\u001b[39m.\u001b[39magirlik \u001b[39m=\u001b[39m agirlik\n\u001b[1;32m---> 11\u001b[0m x \u001b[39m=\u001b[39m Sandalye(\u001b[39m40\u001b[39;49m,\u001b[39m70\u001b[39;49m, \u001b[39m\"\u001b[39;49m\u001b[39mtahta\u001b[39;49m\u001b[39m\"\u001b[39;49m,\u001b[39m3.75\u001b[39;49m )\n\u001b[0;32m     12\u001b[0m y\u001b[39m=\u001b[39m Sandalye(\u001b[39m50\u001b[39m,\u001b[39m70\u001b[39m,\u001b[39m\"\u001b[39m\u001b[39mkompozit\u001b[39m\u001b[39m\"\u001b[39m, \u001b[39m2.95\u001b[39m)\n",
      "Cell \u001b[1;32mIn [12], line 4\u001b[0m, in \u001b[0;36mSandalye.__init__\u001b[1;34m(self, EN, BOY, malzeme, agirlik)\u001b[0m\n\u001b[0;32m      3\u001b[0m \u001b[39mdef\u001b[39;00m \u001b[39m__init__\u001b[39m(\u001b[39mself\u001b[39m, EN ,BOY,malzeme, agirlik ):\n\u001b[1;32m----> 4\u001b[0m     \u001b[39mself\u001b[39m\u001b[39m.\u001b[39m en \u001b[39m=\u001b[39m en\n\u001b[0;32m      5\u001b[0m     \u001b[39mself\u001b[39m \u001b[39m.\u001b[39m boy \u001b[39m=\u001b[39m BOY\n\u001b[0;32m      6\u001b[0m     \u001b[39mself\u001b[39m,malzeme \u001b[39m=\u001b[39m malzeme\n",
      "\u001b[1;31mNameError\u001b[0m: name 'en' is not defined"
     ]
    }
   ],
   "source": [
    "class Sandalye :\n",
    "    en  = boy  = malzeme = agirlik = None\n",
    "    def __init__(self, EN ,BOY,malzeme, agirlik ):\n",
    "        self. en = en\n",
    "        self . boy = BOY\n",
    "        self,malzeme = malzeme\n",
    "        self.agirlik = agirlik\n",
    "def agirlik_merkezi(self):\n",
    "\n",
    "\n",
    "x = Sandalye(40,70, \"tahta\",3.75 )\n",
    "y= Sandalye(50,70,\"kompozit\", 2.95)"
   ]
  },
  {
   "cell_type": "code",
   "execution_count": null,
   "metadata": {},
   "outputs": [],
   "source": [
    "# google daki kullanic i nesnesi nasil ola bilir acaba\n",
    "\n",
    "class User :\n",
    "    kullanici_adi=  parola=None\n",
    "    loged_  in False\n",
    "    sms_code = 231654344w\n",
    "    def login(self, ka,p):\n",
    "        if(self.kullanici_adi== ka and self. parola == p ):\n",
    "            return True\n",
    "        return False\n",
    "    def logout (self):\n",
    "        self.logedin = False\n",
    "\n",
    "    def sifremi_unuttum(self,ka)\n",
    "        if(ka==self.kulannici_adi) :\n",
    "            pass\n",
    "        return \"boyle bir kullanci bulunamadi\"\n",
    "         "
   ]
  }
 ],
 "metadata": {
  "kernelspec": {
   "display_name": "Python 3",
   "language": "python",
   "name": "python3"
  },
  "language_info": {
   "codemirror_mode": {
    "name": "ipython",
    "version": 3
   },
   "file_extension": ".py",
   "mimetype": "text/x-python",
   "name": "python",
   "nbconvert_exporter": "python",
   "pygments_lexer": "ipython3",
   "version": "3.10.8"
  },
  "orig_nbformat": 4,
  "vscode": {
   "interpreter": {
    "hash": "fb4569285eef3a3450cb62085a5b1e0da4bce0af555edc33dcf29baf3acc1368"
   }
  }
 },
 "nbformat": 4,
 "nbformat_minor": 2
}
