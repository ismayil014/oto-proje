{
 "cells": [
  {
   "cell_type": "code",
   "execution_count": 1,
   "metadata": {},
   "outputs": [],
   "source": [
    "# bit işlemleri\n",
    "# 0 elektrik yok 1 var.\n",
    "# 2'lik tabanı..\n",
    "# 1 byte 8 bit"
   ]
  },
  {
   "cell_type": "code",
   "execution_count": 2,
   "metadata": {},
   "outputs": [
    {
     "name": "stdout",
     "output_type": "stream",
     "text": [
      "146 0b10010010 900000\n"
     ]
    }
   ],
   "source": [
    "a = 0b10010010\n",
    "b = 146\n",
    "print(a, bin(b) , 75*40*300)"
   ]
  },
  {
   "cell_type": "code",
   "execution_count": 3,
   "metadata": {},
   "outputs": [
    {
     "name": "stdout",
     "output_type": "stream",
     "text": [
      "A 65 A 65 A\n"
     ]
    }
   ],
   "source": [
    "# 1 byte = 8 bit\n",
    "# 1 kilo byte = 1024 byte\n",
    "# 1 mega byte = 1024 KB\n",
    "\n",
    "# print( 900_000 / 1024 / 1024 / 1024)\n",
    "# 0041 hexedecimal 16'lık tabanda gösterim\n",
    "a = 65\n",
    "b = 0x41 #hex giriş\n",
    "c = 0b00000000000000000000000001000001\n",
    "print( chr(a) , b , chr(b) , c , chr(c) )"
   ]
  },
  {
   "cell_type": "code",
   "execution_count": 4,
   "metadata": {},
   "outputs": [
    {
     "name": "stdout",
     "output_type": "stream",
     "text": [
      "A 65 A 65 A\n"
     ]
    }
   ],
   "source": [
    "# 1 byte = 8 bit\n",
    "# 1 kilo byte = 1024 byte\n",
    "# 1 mega byte = 1024 KB\n",
    "\n",
    "# print( 900_000 / 1024 / 1024 / 1024)\n",
    "# 0041 hexedecimal 16'lık tabanda gösterim\n",
    "a = 65\n",
    "b = 0x41 #hex giriş\n",
    "c = 0b00000000000000000000000001000001\n",
    "print( chr(a) , b , chr(b) , c , chr(c) )"
   ]
  },
  {
   "cell_type": "code",
   "execution_count": 5,
   "metadata": {},
   "outputs": [
    {
     "name": "stdout",
     "output_type": "stream",
     "text": [
      "1 89 0b1011001 88 -66 -0b1000010\n"
     ]
    }
   ],
   "source": [
    "# and ve or \n",
    "#  if True and True :\n",
    "#     print(\"İkisi de doğru olduğu için çalışır.\")\n",
    "# if -1 and \"fasdf\" and 0 :\n",
    "#     print(\"Çalışmaz.\")\n",
    "# 8 bitlik bir sistem için...\n",
    "# 0 0 0 0 0 0 0 0\n",
    "a = 0b01000001\n",
    "b = 0b00011001\n",
    "# c = 00000001\n",
    "# d = 01011001  -> 64 + 16 + 8 + 1\n",
    "# e = 01011000 \n",
    "# f = 10111110 -> 128+32+16+8+4+2 = 190\n",
    "c = a & b # -> and ve işareti shift + 6\n",
    "d = a | b  # -> pipe boru altgr + <\n",
    "e = a ^ b  # özel veya shift + 3\n",
    "f = ~a # tilda işareti altgr + ü\n",
    "# sign bit\n",
    "print(c , d , bin(d) , e , f , bin(f))"
   ]
  },
  {
   "cell_type": "code",
   "execution_count": null,
   "metadata": {},
   "outputs": [],
   "source": [
    "# 150\n",
    "# kaydırma operatörlerinden << sola >> sağa kaydırma.\n",
    "x = 1\n",
    "# x << 2 --> 0001 -> 0100\n",
    "x = x << 2\n",
    "x <<= 2\n",
    "\n",
    "print( bin(x) )\n",
    "0b10000\n",
    "a = 0b00010010 # 16 + 2\n",
    "# a<<1 0b00100100\n",
    "a = a >> 3\n",
    "# 0b00000010\n",
    "a = a << 3\n",
    "# 0b00010000\n",
    "print( a )\n",
    "16\n",
    "a = 18\n",
    "a |= a <<2\n",
    "# a = a | a << 2\n",
    "# a =     0b00010010\n",
    "# a <<2 = 0b01001000\n",
    "# sonuc = 0b01011010 64 + 16 + 8 + 2\n",
    "print(a)\n",
    "90\n",
    "a = 0b00101000 # 128+64+32+16+8+4+2+1 = 255  0-255  256\n",
    "\n",
    "a |= 1 << 4\n",
    "\n",
    "# 0b00111000\n",
    "# 0b11101111\n",
    "# & ?\n",
    "# 0b00101000\n",
    "b = 255 ^ 1 << 4\n",
    "print( bin(a) , bin(b) , bin"
   ]
  }
 ],
 "metadata": {
  "kernelspec": {
   "display_name": "Python 3",
   "language": "python",
   "name": "python3"
  },
  "language_info": {
   "codemirror_mode": {
    "name": "ipython",
    "version": 3
   },
   "file_extension": ".py",
   "mimetype": "text/x-python",
   "name": "python",
   "nbconvert_exporter": "python",
   "pygments_lexer": "ipython3",
   "version": "3.10.8 (tags/v3.10.8:aaaf517, Oct 11 2022, 16:50:30) [MSC v.1933 64 bit (AMD64)]"
  },
  "orig_nbformat": 4,
  "vscode": {
   "interpreter": {
    "hash": "fb4569285eef3a3450cb62085a5b1e0da4bce0af555edc33dcf29baf3acc1368"
   }
  }
 },
 "nbformat": 4,
 "nbformat_minor": 2
}
